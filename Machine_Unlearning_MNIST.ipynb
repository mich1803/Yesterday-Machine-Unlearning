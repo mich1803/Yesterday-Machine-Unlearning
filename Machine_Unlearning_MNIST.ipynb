{
  "nbformat": 4,
  "nbformat_minor": 0,
  "metadata": {
    "colab": {
      "provenance": [],
      "collapsed_sections": [
        "oyOVwyEi-VAy",
        "g2KnGlMtYyYC"
      ],
      "toc_visible": true
    },
    "kernelspec": {
      "name": "python3",
      "display_name": "Python 3"
    },
    "language_info": {
      "name": "python"
    }
  },
  "cells": [
    {
      "cell_type": "code",
      "source": [
        "#@title import dependencies\n",
        "import torch\n",
        "import torch.nn as nn\n",
        "import torch.optim as optim\n",
        "from torchvision import datasets, transforms\n",
        "from torch.utils.data import DataLoader\n",
        "import matplotlib.pyplot as plt\n",
        "from tqdm import tqdm\n",
        "import joblib\n",
        "import numpy as np\n",
        "import random\n",
        "import torch.nn.functional as F\n",
        "\n",
        "# Set seeds for reproducibility\n",
        "SEED = 41\n",
        "torch.manual_seed(SEED)\n",
        "np.random.seed(SEED)\n",
        "random.seed(SEED)"
      ],
      "metadata": {
        "cellView": "form",
        "id": "KOGlLYyv-9tA"
      },
      "execution_count": 11,
      "outputs": []
    },
    {
      "cell_type": "markdown",
      "source": [
        "# Machine Unlearning on a MNIST classifier - BASELINE test"
      ],
      "metadata": {
        "id": "H73QID_K-Y91"
      }
    },
    {
      "cell_type": "markdown",
      "source": [
        "## Setup"
      ],
      "metadata": {
        "id": "ANCCsILeVONI"
      }
    },
    {
      "cell_type": "code",
      "source": [
        "#@title define the neural network\n",
        "\n",
        "class NN(nn.Module):\n",
        "    def __init__(self):\n",
        "        super(NN, self).__init__()\n",
        "        self.fc1 = nn.Linear(28 * 28, 128)\n",
        "        self.fc2 = nn.Linear(128, 64)\n",
        "        self.fc3 = nn.Linear(64, 10)\n",
        "\n",
        "    def forward(self, x):\n",
        "        x = x.view(-1, 28 * 28) # Flatten the image\n",
        "        x = torch.relu(self.fc1(x))\n",
        "        x = torch.relu(self.fc2(x))\n",
        "        x = self.fc3(x)\n",
        "        return x\n",
        "\n",
        "model = NN()"
      ],
      "metadata": {
        "cellView": "form",
        "id": "qHa-yyVORkUU"
      },
      "execution_count": 2,
      "outputs": []
    },
    {
      "cell_type": "code",
      "execution_count": null,
      "metadata": {
        "cellView": "form",
        "id": "39Xlvt909vo5"
      },
      "outputs": [],
      "source": [
        "#@title loading and preprocessing data\n",
        "\n",
        "# Define transformations for the training and validation data\n",
        "transform = transforms.Compose([transforms.ToTensor(), transforms.Normalize((0.5,), (0.5,))])\n",
        "\n",
        "# Download and load the training data\n",
        "trainset = datasets.MNIST(root='./data', train=True, download=True, transform=transform)\n",
        "trainloader = DataLoader(trainset, batch_size=64, shuffle=True)\n",
        "\n",
        "# Download and load the test data\n",
        "testset = datasets.MNIST(root='./data', train=False, download=True, transform=transform)\n",
        "testloader = DataLoader(testset, batch_size=64, shuffle=False)"
      ]
    },
    {
      "cell_type": "markdown",
      "source": [
        "## Initial Training\n",
        "To begin, we'll train a neural network to classify the MNIST dataset. This section covers the steps from setting up environment to evaluating the model's accuracy. If you prefer, you can skip this section and use the pre-trained model from the GitHub repository (instructions for downloading are in the next section)."
      ],
      "metadata": {
        "id": "oyOVwyEi-VAy"
      }
    },
    {
      "cell_type": "code",
      "source": [
        "#@title define loss function and optimizer\n",
        "\n",
        "criterion = nn.CrossEntropyLoss()\n",
        "optimizer = optim.SGD(model.parameters(), lr=0.01)"
      ],
      "metadata": {
        "cellView": "form",
        "id": "DZuJI14XRy60"
      },
      "execution_count": null,
      "outputs": []
    },
    {
      "cell_type": "code",
      "source": [
        "#@title train the network\n",
        "\n",
        "n_epochs = 10\n",
        "for epoch in tqdm(range(n_epochs)):\n",
        "    running_loss = 0.0\n",
        "    for images, labels in trainloader:\n",
        "        optimizer.zero_grad()  # Zero the parameter gradients\n",
        "        outputs = model(images)\n",
        "        loss = criterion(outputs, labels)\n",
        "        loss.backward()\n",
        "        optimizer.step()\n",
        "\n",
        "        running_loss += loss.item()\n",
        "    print(f' Epoch {epoch+1}, Loss: {running_loss/len(trainloader)}')"
      ],
      "metadata": {
        "cellView": "form",
        "id": "gwUqu7LPR7IE"
      },
      "execution_count": null,
      "outputs": []
    },
    {
      "cell_type": "code",
      "source": [
        "#@title evaluate the network\n",
        "\n",
        "correct = 0\n",
        "total = 0\n",
        "with torch.no_grad():\n",
        "    for images, labels in testloader:\n",
        "        outputs = model(images)\n",
        "        _, predicted = torch.max(outputs.data, 1)\n",
        "        total += labels.size(0)\n",
        "        correct += (predicted == labels).sum().item()\n",
        "\n",
        "print(f'Accuracy on the test set: {100 * correct / total}%')"
      ],
      "metadata": {
        "colab": {
          "base_uri": "https://localhost:8080/"
        },
        "cellView": "form",
        "id": "tjixPWK-SChP",
        "outputId": "c015ece3-d518-4f47-93cb-a6e2982a9992"
      },
      "execution_count": null,
      "outputs": [
        {
          "output_type": "stream",
          "name": "stdout",
          "text": [
            "Accuracy on the test set: 94.9%\n"
          ]
        }
      ]
    },
    {
      "cell_type": "code",
      "source": [
        "#@title save the model\n",
        "\n",
        "joblib.dump(model, \"MNIST_Classifier.joblib\")"
      ],
      "metadata": {
        "colab": {
          "base_uri": "https://localhost:8080/"
        },
        "id": "zZj8D0tiTcbE",
        "outputId": "5c147b2a-4d07-49a4-83b7-6b024b6f2c3c",
        "cellView": "form"
      },
      "execution_count": null,
      "outputs": [
        {
          "output_type": "execute_result",
          "data": {
            "text/plain": [
              "['MNIST_Classifier.joblib']"
            ]
          },
          "metadata": {},
          "execution_count": 4
        }
      ]
    },
    {
      "cell_type": "markdown",
      "source": [],
      "metadata": {
        "id": "g2KnGlMtYyYC"
      }
    },
    {
      "cell_type": "code",
      "source": [
        "#@title download the pre-trained model from GitHub (if you skipped the previous section)\n",
        "!wget -O MNIST_Classifier.joblib 'https://github.com/mich1803/Yesterday-Machine-Unlearning/raw/main/saved%20models/MNIST_Classifier.joblib'\n",
        "model = joblib.load('MNIST_Classifier.joblib')"
      ],
      "metadata": {
        "colab": {
          "base_uri": "https://localhost:8080/"
        },
        "id": "pRdLFrOtZIEJ",
        "outputId": "395576f8-6d3e-4dfe-9c0d-ce44af95e9a8"
      },
      "execution_count": 41,
      "outputs": [
        {
          "output_type": "stream",
          "name": "stdout",
          "text": [
            "--2024-06-16 10:01:58--  https://github.com/mich1803/Yesterday-Machine-Unlearning/raw/main/saved%20models/MNIST_Classifier.joblib\n",
            "Resolving github.com (github.com)... 140.82.112.4\n",
            "Connecting to github.com (github.com)|140.82.112.4|:443... connected.\n",
            "HTTP request sent, awaiting response... 302 Found\n",
            "Location: https://raw.githubusercontent.com/mich1803/Yesterday-Machine-Unlearning/main/saved%20models/MNIST_Classifier.joblib [following]\n",
            "--2024-06-16 10:01:58--  https://raw.githubusercontent.com/mich1803/Yesterday-Machine-Unlearning/main/saved%20models/MNIST_Classifier.joblib\n",
            "Resolving raw.githubusercontent.com (raw.githubusercontent.com)... 185.199.108.133, 185.199.109.133, 185.199.110.133, ...\n",
            "Connecting to raw.githubusercontent.com (raw.githubusercontent.com)|185.199.108.133|:443... connected.\n",
            "HTTP request sent, awaiting response... 200 OK\n",
            "Length: 440459 (430K) [application/octet-stream]\n",
            "Saving to: ‘MNIST_Classifier.joblib’\n",
            "\n",
            "MNIST_Classifier.jo 100%[===================>] 430.14K  --.-KB/s    in 0.05s   \n",
            "\n",
            "2024-06-16 10:01:59 (8.97 MB/s) - ‘MNIST_Classifier.joblib’ saved [440459/440459]\n",
            "\n"
          ]
        }
      ]
    },
    {
      "cell_type": "markdown",
      "source": [
        "## Unlearning"
      ],
      "metadata": {
        "id": "kYjXVv8VjN4P"
      }
    },
    {
      "cell_type": "markdown",
      "source": [
        "### Identify the parameters (weights and biases) most involved in the prediction of a specific class."
      ],
      "metadata": {
        "id": "0xQWY_boXFAd"
      }
    },
    {
      "cell_type": "code",
      "source": [
        "trainUNloader = DataLoader(trainset, batch_size=500, shuffle=True)\n",
        "for images, label in trainUNloader:\n",
        "  x = images\n",
        "  break"
      ],
      "metadata": {
        "id": "pgtMMbVAayp4"
      },
      "execution_count": 42,
      "outputs": []
    },
    {
      "cell_type": "code",
      "source": [
        "import torch\n",
        "import torch.nn.functional as F\n",
        "\n",
        "# Assicurati che il modello sia in modalità di valutazione\n",
        "model.eval()\n",
        "\n",
        "# Calcola i logits in output\n",
        "logits = model(x)\n",
        "\n",
        "# Applica softmax per ottenere le probabilità\n",
        "probs = F.softmax(logits, dim=1)\n",
        "\n",
        "# Estrai la probabilità per la classe 6\n",
        "class_6_prob = probs[:, 6]\n",
        "\n",
        "# Backpropaga per calcolare i gradienti rispetto ai parametri del modello\n",
        "model.zero_grad()  # Pulisci i gradienti esistenti\n",
        "class_6_prob.mean().backward()  # Usa la media per aggregare sul batch\n",
        "\n",
        "# Crea una lista per memorizzare i gradienti dei singoli parametri\n",
        "param_grads = []\n",
        "\n",
        "# Accedi ai gradienti e calcola la magnitudine per ogni parametro\n",
        "for name, param in model.named_parameters():\n",
        "    if param.requires_grad:\n",
        "        grads = param.grad.view(-1)  # Flattens the gradients to 1D\n",
        "        for i, grad in enumerate(grads):\n",
        "            param_grads.append((name, i, grad.abs().item()))\n",
        "\n",
        "# Ordina i parametri per magnitudine dei gradienti\n",
        "param_grads.sort(key=lambda x: x[2], reverse=True)\n",
        "\n",
        "# Stampa i top N parametri con i gradienti più alti\n",
        "N = 250  # Puoi cambiare N per vedere più o meno parametri\n",
        "top_params = param_grads[:250]"
      ],
      "metadata": {
        "id": "d3XTtBzuZT0A"
      },
      "execution_count": 43,
      "outputs": []
    },
    {
      "cell_type": "code",
      "source": [
        "for param in model.parameters():\n",
        "    param.requires_grad = False\n",
        "\n",
        "# Mappa i parametri sbloccati in base al layer\n",
        "param_masks = {}\n",
        "for name, index, grad in top_params:\n",
        "    layer_name, param_type = name.split('.')\n",
        "    if (layer_name, param_type) not in param_masks:\n",
        "        layer = getattr(model, layer_name)\n",
        "        param = getattr(layer, param_type)\n",
        "        mask = torch.zeros_like(param, dtype=torch.bool)\n",
        "        param_masks[(layer_name, param_type)] = mask\n",
        "    param_masks[(layer_name, param_type)].view(-1)[index] = True\n",
        "\n",
        "# Sblocca solo i top 250 parametri più rilevanti a livello di layer\n",
        "for (layer_name, param_type), mask in param_masks.items():\n",
        "    layer = getattr(model, layer_name)\n",
        "    param = getattr(layer, param_type)\n",
        "    param.requires_grad = True\n",
        "\n",
        "# Verifica quali parametri sono stati sbloccati\n",
        "trainable_params = [param for param in model.parameters() if param.requires_grad]\n",
        "if not trainable_params:\n",
        "    raise ValueError(\"Nessun parametro allenabile è stato trovato. Verifica il calcolo dei gradienti e il processo di selezione dei parametri.\")\n",
        "\n",
        "# Redefine optimizer for the fine-tuning process\n",
        "optimizer = optim.SGD(trainable_params, lr=0.01)"
      ],
      "metadata": {
        "id": "tguyAPVieXEE"
      },
      "execution_count": 51,
      "outputs": []
    },
    {
      "cell_type": "markdown",
      "source": [
        "### Fine-Tuning"
      ],
      "metadata": {
        "id": "MAK6-1ULfNwG"
      }
    },
    {
      "cell_type": "markdown",
      "source": [
        "#### LOSS: Changing the original labels"
      ],
      "metadata": {
        "id": "8nM7Yl0bhr9H"
      }
    },
    {
      "cell_type": "code",
      "source": [
        "# Define a custom loss function\n",
        "class CustomLoss(nn.Module):\n",
        "    def __init__(self):\n",
        "        super(CustomLoss, self).__init__()\n",
        "        self.cross_entropy = nn.CrossEntropyLoss()\n",
        "\n",
        "    def forward(self, outputs, labels):\n",
        "        # Create a modified version of labels where 6 is replaced by 3\n",
        "        modified_labels = torch.where(labels == 6, 3, labels)\n",
        "        loss = self.cross_entropy(outputs, modified_labels)\n",
        "        return loss\n",
        "\n",
        "criterion = CustomLoss()"
      ],
      "metadata": {
        "id": "IxpBY7RmVnmR"
      },
      "execution_count": 52,
      "outputs": []
    },
    {
      "cell_type": "code",
      "source": [
        "# Fine-tune the network\n",
        "model.train()\n",
        "\n",
        "n_epochs = 2\n",
        "for epoch in range(n_epochs):\n",
        "    running_loss = 0.0\n",
        "    for images, labels in tqdm(trainloader, desc = f\"epoch: {epoch + 1}. \"):\n",
        "        optimizer.zero_grad()\n",
        "        outputs = model(images)\n",
        "        loss = criterion(outputs, labels)\n",
        "        loss.backward()\n",
        "        optimizer.step()\n",
        "\n",
        "        running_loss += loss.item()\n",
        "    print(f'Fine-tuning Epoch {epoch+1}, Loss: {running_loss/len(trainloader)}')\n"
      ],
      "metadata": {
        "id": "bgynrPtVZBsL",
        "outputId": "db9857a2-c64f-4bec-c8da-0488de4e52b6",
        "colab": {
          "base_uri": "https://localhost:8080/"
        }
      },
      "execution_count": 53,
      "outputs": [
        {
          "output_type": "stream",
          "name": "stderr",
          "text": [
            "epoch: 1. : 100%|██████████| 938/938 [00:18<00:00, 50.52it/s]\n"
          ]
        },
        {
          "output_type": "stream",
          "name": "stdout",
          "text": [
            "Fine-tuning Epoch 1, Loss: 0.2127962269500565\n"
          ]
        },
        {
          "output_type": "stream",
          "name": "stderr",
          "text": [
            "epoch: 2. : 100%|██████████| 938/938 [00:19<00:00, 47.94it/s]"
          ]
        },
        {
          "output_type": "stream",
          "name": "stdout",
          "text": [
            "Fine-tuning Epoch 2, Loss: 0.17655596349920546\n"
          ]
        },
        {
          "output_type": "stream",
          "name": "stderr",
          "text": [
            "\n"
          ]
        }
      ]
    },
    {
      "cell_type": "code",
      "source": [
        "correct = 0\n",
        "total = 0\n",
        "with torch.no_grad():\n",
        "    for images, labels in testloader:\n",
        "        outputs = model(images)\n",
        "        _, predicted = torch.max(outputs.data, 1)\n",
        "        total += labels.size(0)\n",
        "        correct += (predicted == labels).sum().item()\n",
        "\n",
        "print(f'Accuracy on the test set after fine-tuning: {100 * correct / total}%')\n"
      ],
      "metadata": {
        "id": "qHLj9IO6Zhhr",
        "outputId": "b6293650-4063-4e5d-b406-921c43aeac10",
        "colab": {
          "base_uri": "https://localhost:8080/"
        }
      },
      "execution_count": 54,
      "outputs": [
        {
          "output_type": "stream",
          "name": "stdout",
          "text": [
            "Accuracy on the test set after fine-tuning: 85.72%\n"
          ]
        }
      ]
    },
    {
      "cell_type": "code",
      "source": [
        "misclassified_images = []\n",
        "misclassified_labels = []\n",
        "true_labels = []\n",
        "\n",
        "with torch.no_grad():\n",
        "    for images, labels in testloader:\n",
        "        outputs = model(images)\n",
        "        _, predicted = torch.max(outputs.data, 1)\n",
        "        # Trova gli indici degli errori\n",
        "        misclassified_idx = (predicted != labels).nonzero(as_tuple=True)[0]\n",
        "        for idx in misclassified_idx:\n",
        "            misclassified_images.append(images[idx].cpu())\n",
        "            misclassified_labels.append(predicted[idx].cpu())\n",
        "            true_labels.append(labels[idx].cpu())\n",
        "\n",
        "num_samples = min(25, len(misclassified_images))\n",
        "random_indices = np.random.choice(len(misclassified_images), num_samples, replace=False)\n",
        "\n",
        "# Impostare la griglia 5x5\n",
        "fig, axes = plt.subplots(5, 5, figsize=(8, 8))\n",
        "fig.suptitle('Esempi Errati Casuali')\n",
        "\n",
        "# Iterare sugli indici selezionati per visualizzare le immagini\n",
        "for i, idx in enumerate(random_indices):\n",
        "    ax = axes[i // 5, i % 5]\n",
        "    img = misclassified_images[idx]\n",
        "    ax.imshow(img.permute(1, 2, 0))\n",
        "    ax.set_title(f'Pred: {misclassified_labels[idx].item()} - True: {true_labels[idx].item()}')\n",
        "    ax.axis('off')\n",
        "\n",
        "plt.tight_layout()\n",
        "plt.show()"
      ],
      "metadata": {
        "id": "PQmgxc-xMXPK",
        "outputId": "68543e63-0440-460c-e3af-b4c0b1149ed7",
        "colab": {
          "base_uri": "https://localhost:8080/",
          "height": 805
        }
      },
      "execution_count": 55,
      "outputs": [
        {
          "output_type": "display_data",
          "data": {
            "text/plain": [
              "<Figure size 800x800 with 25 Axes>"
            ],
            "image/png": "[encoded data removed]"
          },
          "metadata": {}
        }
      ]
    },
    {
      "cell_type": "code",
      "source": [
        "correct = 0\n",
        "total = 0\n",
        "\n",
        "with torch.no_grad():\n",
        "    for images, labels in testloader:\n",
        "        mask = labels == 6\n",
        "        if mask.sum() == 0:\n",
        "            continue #if there are no 6, skip this batch\n",
        "\n",
        "        images_6 = images[mask]\n",
        "        labels_6 = labels[mask]\n",
        "        outputs = model(images_6)\n",
        "        _, predicted = torch.max(outputs.data, 1)\n",
        "        total += labels_6.size(0)\n",
        "        correct += (predicted == labels_6).sum().item()\n",
        "\n",
        "accuracy = 100 * correct / total if total > 0 else 0\n",
        "print(f'Accuracy on immagini with label 6: {accuracy:.2f}%')\n"
      ],
      "metadata": {
        "id": "_hsy_wPVM0U_",
        "outputId": "c444e42f-5a67-4cce-a26e-f614d7cb3127",
        "colab": {
          "base_uri": "https://localhost:8080/"
        }
      },
      "execution_count": 56,
      "outputs": [
        {
          "output_type": "stream",
          "name": "stdout",
          "text": [
            "Accuracy on immagini with label 6: 0.00%\n"
          ]
        }
      ]
    },
    {
      "cell_type": "code",
      "source": [
        "correct = 0\n",
        "total = 0\n",
        "\n",
        "with torch.no_grad():\n",
        "    for images, labels in testloader:\n",
        "        mask = labels != 6\n",
        "        if mask.sum() == 0:\n",
        "            continue\n",
        "\n",
        "        images_not_6 = images[mask]\n",
        "        labels_not_6 = labels[mask]\n",
        "\n",
        "        outputs = model(images_not_6)\n",
        "        _, predicted = torch.max(outputs.data, 1)\n",
        "\n",
        "        total += labels_not_6.size(0)\n",
        "        correct += (predicted == labels_not_6).sum().item()\n",
        "\n",
        "accuracy = 100 * correct / total if total > 0 else 0\n",
        "print(f'Accuracy on images with other labels (not 6): {accuracy:.2f}%')\n"
      ],
      "metadata": {
        "id": "eBzjDHHlNa5n",
        "outputId": "cbced51e-d284-4a43-a412-11ea0d52918a",
        "colab": {
          "base_uri": "https://localhost:8080/"
        }
      },
      "execution_count": 57,
      "outputs": [
        {
          "output_type": "stream",
          "name": "stdout",
          "text": [
            "Accuracy on images with other labels (not 6): 94.80%\n"
          ]
        }
      ]
    },
    {
      "cell_type": "code",
      "source": [
        "joblib.dump(model, \"MINST_Classifier_unl6_labels.joblib\")"
      ],
      "metadata": {
        "colab": {
          "base_uri": "https://localhost:8080/"
        },
        "id": "dVSachJRh42_",
        "outputId": "e1d1e45d-c96f-42aa-d921-2d93500c854d"
      },
      "execution_count": 59,
      "outputs": [
        {
          "output_type": "execute_result",
          "data": {
            "text/plain": [
              "['MINST_Classifier_unl6_labels.joblib']"
            ]
          },
          "metadata": {},
          "execution_count": 59
        }
      ]
    },
    {
      "cell_type": "markdown",
      "source": [
        "#### LOSS: Penalyzing class 6"
      ],
      "metadata": {
        "id": "CzsN7qY9i9R-"
      }
    }
  ]
}