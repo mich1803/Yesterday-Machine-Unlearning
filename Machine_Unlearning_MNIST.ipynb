{
  "nbformat": 4,
  "nbformat_minor": 0,
  "metadata": {
    "colab": {
      "provenance": [],
      "collapsed_sections": [
        "oyOVwyEi-VAy",
        "g2KnGlMtYyYC"
      ]
    },
    "kernelspec": {
      "name": "python3",
      "display_name": "Python 3"
    },
    "language_info": {
      "name": "python"
    }
  },
  "cells": [
    {
      "cell_type": "code",
      "source": [
        "#@title import dependencies\n",
        "import torch\n",
        "import torch.nn as nn\n",
        "import torch.optim as optim\n",
        "from torchvision import datasets, transforms\n",
        "from torch.utils.data import DataLoader\n",
        "import matplotlib.pyplot as plt\n",
        "from tqdm import tqdm\n",
        "import joblib\n",
        "import numpy as np\n",
        "import random\n",
        "import torch.nn.functional as F\n",
        "from copy import deepcopy\n",
        "\n",
        "# Set seeds for reproducibility\n",
        "SEED = 41\n",
        "torch.manual_seed(SEED)\n",
        "np.random.seed(SEED)\n",
        "random.seed(SEED)"
      ],
      "metadata": {
        "cellView": "form",
        "id": "KOGlLYyv-9tA"
      },
      "execution_count": 60,
      "outputs": []
    },
    {
      "cell_type": "markdown",
      "source": [
        "# Machine Unlearning on a MNIST classifier - BASELINE test"
      ],
      "metadata": {
        "id": "H73QID_K-Y91"
      }
    },
    {
      "cell_type": "markdown",
      "source": [
        "## Setup"
      ],
      "metadata": {
        "id": "ANCCsILeVONI"
      }
    },
    {
      "cell_type": "code",
      "source": [
        "#@title define the neural network\n",
        "\n",
        "class NN(nn.Module):\n",
        "    def __init__(self):\n",
        "        super(NN, self).__init__()\n",
        "        self.fc1 = nn.Linear(28 * 28, 128)\n",
        "        self.fc2 = nn.Linear(128, 64)\n",
        "        self.fc3 = nn.Linear(64, 10)\n",
        "\n",
        "    def forward(self, x):\n",
        "        x = x.view(-1, 28 * 28) # Flatten the image\n",
        "        x = torch.relu(self.fc1(x))\n",
        "        x = torch.relu(self.fc2(x))\n",
        "        x = self.fc3(x)\n",
        "        return x\n",
        "\n",
        "model = NN()"
      ],
      "metadata": {
        "cellView": "form",
        "id": "qHa-yyVORkUU"
      },
      "execution_count": 2,
      "outputs": []
    },
    {
      "cell_type": "code",
      "execution_count": 89,
      "metadata": {
        "cellView": "form",
        "id": "39Xlvt909vo5"
      },
      "outputs": [],
      "source": [
        "#@title loading and preprocessing data\n",
        "\n",
        "# Define transformations for the training and validation data\n",
        "transform = transforms.Compose([transforms.ToTensor(), transforms.Normalize((0.5,), (0.5,))])\n",
        "\n",
        "# Download and load the training data\n",
        "trainset = datasets.MNIST(root='./data', train=True, download=True, transform=transform)\n",
        "trainloader = DataLoader(trainset, batch_size=64, shuffle=True)\n",
        "\n",
        "# Download and load the test data\n",
        "testset = datasets.MNIST(root='./data', train=False, download=True, transform=transform)\n",
        "testloader = DataLoader(testset, batch_size=64, shuffle=False)"
      ]
    },
    {
      "cell_type": "markdown",
      "source": [
        "## Initial Training\n",
        "To begin, we'll train a neural network to classify the MNIST dataset. This section covers the steps from setting up environment to evaluating the model's accuracy. If you prefer, you can skip this section and use the pre-trained model from the GitHub repository (instructions for downloading are in the next section)."
      ],
      "metadata": {
        "id": "oyOVwyEi-VAy"
      }
    },
    {
      "cell_type": "code",
      "source": [
        "#@title define loss function and optimizer\n",
        "\n",
        "criterion = nn.CrossEntropyLoss()\n",
        "optimizer = optim.SGD(model.parameters(), lr=0.01)"
      ],
      "metadata": {
        "cellView": "form",
        "id": "DZuJI14XRy60"
      },
      "execution_count": 4,
      "outputs": []
    },
    {
      "cell_type": "code",
      "source": [
        "#@title train the network\n",
        "\n",
        "n_epochs = 10\n",
        "for epoch in tqdm(range(n_epochs)):\n",
        "    running_loss = 0.0\n",
        "    for images, labels in trainloader:\n",
        "        optimizer.zero_grad()  # Zero the parameter gradients\n",
        "        outputs = model(images)\n",
        "        loss = criterion(outputs, labels)\n",
        "        loss.backward()\n",
        "        optimizer.step()\n",
        "\n",
        "        running_loss += loss.item()\n",
        "    print(f' Epoch {epoch+1}, Loss: {running_loss/len(trainloader)}')"
      ],
      "metadata": {
        "cellView": "form",
        "id": "gwUqu7LPR7IE",
        "outputId": "3005beef-615b-4efb-c0c2-ac406267b221",
        "colab": {
          "base_uri": "https://localhost:8080/"
        }
      },
      "execution_count": 5,
      "outputs": [
        {
          "output_type": "stream",
          "name": "stderr",
          "text": [
            " 10%|█         | 1/10 [00:19<02:56, 19.57s/it]"
          ]
        },
        {
          "output_type": "stream",
          "name": "stdout",
          "text": [
            " Epoch 1, Loss: 1.0238848064881143\n"
          ]
        },
        {
          "output_type": "stream",
          "name": "stderr",
          "text": [
            "\r 20%|██        | 2/10 [00:39<02:39, 19.97s/it]"
          ]
        },
        {
          "output_type": "stream",
          "name": "stdout",
          "text": [
            " Epoch 2, Loss: 0.38597884826632195\n"
          ]
        },
        {
          "output_type": "stream",
          "name": "stderr",
          "text": [
            "\r 30%|███       | 3/10 [01:06<02:42, 23.22s/it]"
          ]
        },
        {
          "output_type": "stream",
          "name": "stdout",
          "text": [
            " Epoch 3, Loss: 0.3257994085613853\n"
          ]
        },
        {
          "output_type": "stream",
          "name": "stderr",
          "text": [
            "\r 40%|████      | 4/10 [01:45<02:55, 29.19s/it]"
          ]
        },
        {
          "output_type": "stream",
          "name": "stdout",
          "text": [
            " Epoch 4, Loss: 0.29247956143926457\n"
          ]
        },
        {
          "output_type": "stream",
          "name": "stderr",
          "text": [
            "\r 50%|█████     | 5/10 [02:05<02:10, 26.00s/it]"
          ]
        },
        {
          "output_type": "stream",
          "name": "stdout",
          "text": [
            " Epoch 5, Loss: 0.2666079622230677\n"
          ]
        },
        {
          "output_type": "stream",
          "name": "stderr",
          "text": [
            "\r 60%|██████    | 6/10 [02:25<01:35, 23.90s/it]"
          ]
        },
        {
          "output_type": "stream",
          "name": "stdout",
          "text": [
            " Epoch 6, Loss: 0.24376501867781952\n"
          ]
        },
        {
          "output_type": "stream",
          "name": "stderr",
          "text": [
            "\r 70%|███████   | 7/10 [02:45<01:08, 22.75s/it]"
          ]
        },
        {
          "output_type": "stream",
          "name": "stdout",
          "text": [
            " Epoch 7, Loss: 0.2241767061266627\n"
          ]
        },
        {
          "output_type": "stream",
          "name": "stderr",
          "text": [
            "\r 80%|████████  | 8/10 [03:07<00:44, 22.48s/it]"
          ]
        },
        {
          "output_type": "stream",
          "name": "stdout",
          "text": [
            " Epoch 8, Loss: 0.20669279496139809\n"
          ]
        },
        {
          "output_type": "stream",
          "name": "stderr",
          "text": [
            "\r 90%|█████████ | 9/10 [03:26<00:21, 21.48s/it]"
          ]
        },
        {
          "output_type": "stream",
          "name": "stdout",
          "text": [
            " Epoch 9, Loss: 0.19195180559066186\n"
          ]
        },
        {
          "output_type": "stream",
          "name": "stderr",
          "text": [
            "100%|██████████| 10/10 [03:48<00:00, 22.85s/it]"
          ]
        },
        {
          "output_type": "stream",
          "name": "stdout",
          "text": [
            " Epoch 10, Loss: 0.17762162606678664\n"
          ]
        },
        {
          "output_type": "stream",
          "name": "stderr",
          "text": [
            "\n"
          ]
        }
      ]
    },
    {
      "cell_type": "code",
      "source": [
        "#@title evaluate the network\n",
        "\n",
        "correct = 0\n",
        "total = 0\n",
        "with torch.no_grad():\n",
        "    for images, labels in testloader:\n",
        "        outputs = model(images)\n",
        "        _, predicted = torch.max(outputs.data, 1)\n",
        "        total += labels.size(0)\n",
        "        correct += (predicted == labels).sum().item()\n",
        "\n",
        "print(f'Accuracy on the test set: {100 * correct / total}%')"
      ],
      "metadata": {
        "colab": {
          "base_uri": "https://localhost:8080/"
        },
        "cellView": "form",
        "id": "tjixPWK-SChP",
        "outputId": "acf8987c-ab31-42c1-8599-164e940e5e36"
      },
      "execution_count": 6,
      "outputs": [
        {
          "output_type": "stream",
          "name": "stdout",
          "text": [
            "Accuracy on the test set: 94.9%\n"
          ]
        }
      ]
    },
    {
      "cell_type": "code",
      "source": [
        "#@title save the model\n",
        "joblib.dump(model, \"MNIST_Classifier.joblib\")"
      ],
      "metadata": {
        "colab": {
          "base_uri": "https://localhost:8080/"
        },
        "id": "zZj8D0tiTcbE",
        "outputId": "72621c44-ec6c-4fed-840b-c212753f3426"
      },
      "execution_count": 9,
      "outputs": [
        {
          "output_type": "execute_result",
          "data": {
            "text/plain": [
              "['MNIST_Classifier.joblib']"
            ]
          },
          "metadata": {},
          "execution_count": 9
        }
      ]
    },
    {
      "cell_type": "markdown",
      "source": [],
      "metadata": {
        "id": "g2KnGlMtYyYC"
      }
    },
    {
      "cell_type": "markdown",
      "source": [
        "## Unlearning"
      ],
      "metadata": {
        "id": "kYjXVv8VjN4P"
      }
    },
    {
      "cell_type": "code",
      "source": [
        "#@title download the pre-trained model from GitHub (if you skipped the previous section)\n",
        "!wget -O MNIST_Classifier.joblib 'https://github.com/mich1803/Yesterday-Machine-Unlearning/raw/main/saved%20models/MNIST/MNIST_Classifier.joblib'\n",
        "model = joblib.load('MNIST_Classifier.joblib')"
      ],
      "metadata": {
        "id": "pRdLFrOtZIEJ",
        "cellView": "form"
      },
      "execution_count": null,
      "outputs": []
    },
    {
      "cell_type": "markdown",
      "source": [
        "### Identify the parameters (weights and biases) most involved in the prediction of a specific class."
      ],
      "metadata": {
        "id": "0xQWY_boXFAd"
      }
    },
    {
      "cell_type": "code",
      "source": [
        "unlearning_loader = DataLoader(trainset, batch_size=1000, shuffle=True)\n",
        "for x, y in unlearning_loader:\n",
        "  images, labels = x, y\n",
        "  break"
      ],
      "metadata": {
        "id": "Y69bC7pyHUZf"
      },
      "execution_count": 74,
      "outputs": []
    },
    {
      "cell_type": "code",
      "source": [
        "# Set model to evaluation mode\n",
        "model.eval()\n",
        "# Filter only class 6 samples\n",
        "mask = labels == 6\n",
        "class_6_images = images[mask]\n",
        "class_6_labels = labels[mask]\n",
        "\n",
        "# Forward pass\n",
        "outputs = model(class_6_images)\n",
        "loss = nn.CrossEntropyLoss()(outputs, class_6_labels)\n",
        "\n",
        "# Compute gradients\n",
        "model.zero_grad()\n",
        "loss.backward()\n",
        "\n",
        "# Collect gradients\n",
        "gradients = []\n",
        "for name, param in model.named_parameters():\n",
        "    if param.requires_grad:\n",
        "        gradients.append((name, param.grad.abs().sum().item(), param.grad))\n",
        "\n",
        "# Sort gradients by absolute value\n",
        "sorted_gradients = sorted(gradients, key=lambda x: x[1], reverse=True)\n",
        "\n",
        "# Get the names and gradients of the top 250 parameters\n",
        "top_250_params = sorted_gradients[:250]"
      ],
      "metadata": {
        "id": "d6LtgCBiGKD5"
      },
      "execution_count": 77,
      "outputs": []
    },
    {
      "cell_type": "markdown",
      "source": [
        "### Fine-Tuning"
      ],
      "metadata": {
        "id": "MAK6-1ULfNwG"
      }
    },
    {
      "cell_type": "markdown",
      "source": [
        "#### LOSS: Changing the original labels"
      ],
      "metadata": {
        "id": "8nM7Yl0bhr9H"
      }
    },
    {
      "cell_type": "code",
      "source": [
        "model1 = deepcopy(model)\n",
        "\n",
        "# Freeze all parameters\n",
        "for param in model1.parameters():\n",
        "    param.requires_grad = False\n",
        "\n",
        "# Unfreeze the top 250 parameters\n",
        "for name, _, grad in top_250_params:\n",
        "    for name_, param in model1.named_parameters():\n",
        "        if name_ == name:\n",
        "            param.requires_grad = True\n",
        "\n",
        "# Set up the optimizer to update only the top 250 parameters\n",
        "optimizer = optim.Adam(filter(lambda p: p.requires_grad, model1.parameters()), lr=1e-4)"
      ],
      "metadata": {
        "id": "4xXNktf1CIws"
      },
      "execution_count": 78,
      "outputs": []
    },
    {
      "cell_type": "code",
      "source": [
        "# Define a custom loss function\n",
        "class CustomLoss(nn.Module):\n",
        "    def __init__(self):\n",
        "        super(CustomLoss, self).__init__()\n",
        "        self.cross_entropy = nn.CrossEntropyLoss()\n",
        "\n",
        "    def forward(self, outputs, labels):\n",
        "        # Create a modified version of labels where 6 is replaced by 3\n",
        "        modified_labels = torch.where(labels == 6, 3, labels)\n",
        "        loss = self.cross_entropy(outputs, modified_labels)\n",
        "        return loss\n",
        "\n",
        "criterion = CustomLoss()"
      ],
      "metadata": {
        "id": "IxpBY7RmVnmR"
      },
      "execution_count": 79,
      "outputs": []
    },
    {
      "cell_type": "code",
      "source": [
        "# Fine-tune the network\n",
        "model1.train()\n",
        "\n",
        "n_epochs = 2\n",
        "for epoch in range(n_epochs):\n",
        "    running_loss = 0.0\n",
        "    for images, labels in tqdm(trainloader, desc = f\"epoch: {epoch + 1}. \"):\n",
        "        optimizer.zero_grad()\n",
        "        outputs = model1(images)\n",
        "        loss = criterion(outputs, labels)\n",
        "        loss.backward()\n",
        "        optimizer.step()\n",
        "\n",
        "        running_loss += loss.item()\n",
        "    print(f'Fine-tuning Epoch {epoch+1}, Loss: {running_loss/len(trainloader)}')\n"
      ],
      "metadata": {
        "id": "bgynrPtVZBsL",
        "outputId": "d72e34d8-bdc8-4c99-d0c0-d23635103926",
        "colab": {
          "base_uri": "https://localhost:8080/"
        }
      },
      "execution_count": 91,
      "outputs": [
        {
          "output_type": "stream",
          "name": "stderr",
          "text": [
            "epoch: 1. : 100%|██████████| 938/938 [00:24<00:00, 38.92it/s]\n"
          ]
        },
        {
          "output_type": "stream",
          "name": "stdout",
          "text": [
            "Fine-tuning Epoch 1, Loss: 0.17502441737792893\n"
          ]
        },
        {
          "output_type": "stream",
          "name": "stderr",
          "text": [
            "epoch: 2. : 100%|██████████| 938/938 [00:25<00:00, 36.43it/s]"
          ]
        },
        {
          "output_type": "stream",
          "name": "stdout",
          "text": [
            "Fine-tuning Epoch 2, Loss: 0.14975910177077056\n"
          ]
        },
        {
          "output_type": "stream",
          "name": "stderr",
          "text": [
            "\n"
          ]
        }
      ]
    },
    {
      "cell_type": "markdown",
      "source": [
        "##### Unlearning Validation"
      ],
      "metadata": {
        "id": "oaHCvopxA002"
      }
    },
    {
      "cell_type": "code",
      "source": [
        "correct = 0\n",
        "total = 0\n",
        "with torch.no_grad():\n",
        "    for images, labels in testloader:\n",
        "        outputs = model1(images)\n",
        "        _, predicted = torch.max(outputs.data, 1)\n",
        "        total += labels.size(0)\n",
        "        correct += (predicted == labels).sum().item()\n",
        "\n",
        "print(f'Accuracy on the test set after fine-tuning: {100 * correct / total}%')\n"
      ],
      "metadata": {
        "id": "qHLj9IO6Zhhr",
        "outputId": "facc1193-13a3-4487-be0d-49d10a561f14",
        "colab": {
          "base_uri": "https://localhost:8080/"
        }
      },
      "execution_count": 92,
      "outputs": [
        {
          "output_type": "stream",
          "name": "stdout",
          "text": [
            "Accuracy on the test set after fine-tuning: 86.49%\n"
          ]
        }
      ]
    },
    {
      "cell_type": "code",
      "source": [
        "misclassified_images = []\n",
        "misclassified_labels = []\n",
        "true_labels = []\n",
        "\n",
        "with torch.no_grad():\n",
        "    for images, labels in testloader:\n",
        "        outputs = model1(images)\n",
        "        _, predicted = torch.max(outputs.data, 1)\n",
        "        # Trova gli indici degli errori\n",
        "        misclassified_idx = (predicted != labels).nonzero(as_tuple=True)[0]\n",
        "        for idx in misclassified_idx:\n",
        "            misclassified_images.append(images[idx].cpu())\n",
        "            misclassified_labels.append(predicted[idx].cpu())\n",
        "            true_labels.append(labels[idx].cpu())\n",
        "\n",
        "num_samples = min(10, len(misclassified_images))\n",
        "random_indices = np.random.choice(len(misclassified_images), num_samples, replace=False)\n",
        "\n",
        "# Impostare la griglia 5x5\n",
        "fig, axes = plt.subplots(2, 5, figsize=(8, 4))\n",
        "fig.suptitle('Esempi Errati Casuali')\n",
        "\n",
        "# Iterare sugli indici selezionati per visualizzare le immagini\n",
        "for i, idx in enumerate(random_indices):\n",
        "    ax = axes[i // 5, i % 5]\n",
        "    img = misclassified_images[idx]\n",
        "    ax.imshow(img.permute(1, 2, 0))\n",
        "    ax.set_title(f'Pred: {misclassified_labels[idx].item()} - True: {true_labels[idx].item()}')\n",
        "    ax.axis('off')\n",
        "\n",
        "plt.tight_layout()\n",
        "plt.show()"
      ],
      "metadata": {
        "id": "PQmgxc-xMXPK",
        "outputId": "c44f43eb-a127-405b-b138-e08747705154",
        "colab": {
          "base_uri": "https://localhost:8080/",
          "height": 403
        }
      },
      "execution_count": 93,
      "outputs": [
        {
          "output_type": "display_data",
          "data": {
            "text/plain": [
              "<Figure size 800x400 with 10 Axes>"
            ],
            "image/png": "[encoded data removed]"
          },
          "metadata": {}
        }
      ]
    },
    {
      "cell_type": "code",
      "source": [
        "correct = 0\n",
        "total = 0\n",
        "\n",
        "with torch.no_grad():\n",
        "    for images, labels in testloader:\n",
        "        mask = labels == 6\n",
        "        if mask.sum() == 0:\n",
        "            continue #if there are no 6, skip this batch\n",
        "\n",
        "        images_6 = images[mask]\n",
        "        labels_6 = labels[mask]\n",
        "        outputs = model1(images_6)\n",
        "        _, predicted = torch.max(outputs.data, 1)\n",
        "        total += labels_6.size(0)\n",
        "        correct += (predicted == labels_6).sum().item()\n",
        "\n",
        "accuracy = 100 * correct / total if total > 0 else 0\n",
        "print(f'Accuracy on immagini with label 6: {accuracy:.2f}%')\n"
      ],
      "metadata": {
        "id": "_hsy_wPVM0U_",
        "outputId": "bb8fce7c-f8ef-4c3c-8893-1298942a92a0",
        "colab": {
          "base_uri": "https://localhost:8080/"
        }
      },
      "execution_count": 94,
      "outputs": [
        {
          "output_type": "stream",
          "name": "stdout",
          "text": [
            "Accuracy on immagini with label 6: 0.00%\n"
          ]
        }
      ]
    },
    {
      "cell_type": "code",
      "source": [
        "correct = 0\n",
        "total = 0\n",
        "\n",
        "with torch.no_grad():\n",
        "    for images, labels in testloader:\n",
        "        mask = labels != 6\n",
        "        if mask.sum() == 0:\n",
        "            continue\n",
        "\n",
        "        images_not_6 = images[mask]\n",
        "        labels_not_6 = labels[mask]\n",
        "\n",
        "        outputs = model(images_not_6)\n",
        "        _, predicted = torch.max(outputs.data, 1)\n",
        "\n",
        "        total += labels_not_6.size(0)\n",
        "        correct += (predicted == labels_not_6).sum().item()\n",
        "\n",
        "accuracy = 100 * correct / total if total > 0 else 0\n",
        "print(f'Accuracy on images with other labels (not 6): {accuracy:.2f}%')\n"
      ],
      "metadata": {
        "id": "eBzjDHHlNa5n",
        "outputId": "2106bb97-5a1d-4fd9-db11-0902a41e7287",
        "colab": {
          "base_uri": "https://localhost:8080/"
        }
      },
      "execution_count": 95,
      "outputs": [
        {
          "output_type": "stream",
          "name": "stdout",
          "text": [
            "Accuracy on images with other labels (not 6): 94.63%\n"
          ]
        }
      ]
    },
    {
      "cell_type": "code",
      "source": [
        "joblib.dump(model1, \"MNIST_Classifier_unl6_labels.joblib\")"
      ],
      "metadata": {
        "colab": {
          "base_uri": "https://localhost:8080/"
        },
        "id": "dVSachJRh42_",
        "outputId": "2354e862-7b56-4221-8ad2-231536e374b5"
      },
      "execution_count": 187,
      "outputs": [
        {
          "output_type": "execute_result",
          "data": {
            "text/plain": [
              "['MNIST_Classifier_unl6_labels.joblib']"
            ]
          },
          "metadata": {},
          "execution_count": 187
        }
      ]
    },
    {
      "cell_type": "markdown",
      "source": [
        "#### LOSS: Penalyzing the 6"
      ],
      "metadata": {
        "id": "CzsN7qY9i9R-"
      }
    },
    {
      "cell_type": "code",
      "source": [
        "model2 = deepcopy(model)\n",
        "\n",
        "# Freeze all parameters\n",
        "for param in model2.parameters():\n",
        "    param.requires_grad = False\n",
        "\n",
        "# Unfreeze the top 250 parameters\n",
        "for name, _, grad in top_250_params:\n",
        "    for name_, param in model2.named_parameters():\n",
        "        if name_ == name:\n",
        "            param.requires_grad = True\n",
        "\n",
        "# Set up the optimizer to update only the top 250 parameters\n",
        "optimizer = optim.Adam(filter(lambda p: p.requires_grad, model2.parameters()), lr=1e-4)"
      ],
      "metadata": {
        "id": "bcnAFKa2KwKh"
      },
      "execution_count": 177,
      "outputs": []
    },
    {
      "cell_type": "code",
      "source": [
        "class CustomLoss(nn.Module):\n",
        "    def __init__(self, tau=1e5):\n",
        "        super(CustomLoss, self).__init__()\n",
        "        self.cross_entropy = nn.CrossEntropyLoss()\n",
        "        self.tau = tau\n",
        "\n",
        "    def forward(self, outputs, labels):\n",
        "        # Standard cross-entropy loss\n",
        "        original_loss = self.cross_entropy(outputs, labels)\n",
        "\n",
        "        # Penalize the model if it predicts class 6\n",
        "        class_6_logits = outputs[:, 6]  # Logits for class 6\n",
        "\n",
        "        # Apply sigmoid to scale logits to [0, 1]\n",
        "        scaled_logits = torch.sigmoid(class_6_logits)\n",
        "\n",
        "        # Apply penalty directly on the scaled logits\n",
        "        penalty_6 = self.tau * torch.mean(scaled_logits)\n",
        "\n",
        "        # Total loss\n",
        "        loss = original_loss + penalty_6\n",
        "        return loss\n",
        "\n",
        "criterion = CustomLoss()"
      ],
      "metadata": {
        "id": "4rghv0iiadRd"
      },
      "execution_count": 179,
      "outputs": []
    },
    {
      "cell_type": "code",
      "source": [
        "# Fine-tune the network\n",
        "model2.train()\n",
        "\n",
        "n_epochs = 2\n",
        "for epoch in range(n_epochs):\n",
        "    running_loss = 0.0\n",
        "    for images, labels in tqdm(trainloader, desc = f\"epoch: {epoch + 1}. \"):\n",
        "        optimizer.zero_grad()\n",
        "        outputs = model2(images)\n",
        "        loss = criterion(outputs, labels)\n",
        "        loss.backward()\n",
        "        optimizer.step()\n",
        "\n",
        "        running_loss += loss.item()\n",
        "    print(f'Fine-tuning Epoch {epoch+1}, Loss: {running_loss/len(trainloader)}')\n"
      ],
      "metadata": {
        "outputId": "a5977689-d80f-410b-8f11-c894342aa179",
        "colab": {
          "base_uri": "https://localhost:8080/"
        },
        "id": "zADIWbF9KwKr"
      },
      "execution_count": 180,
      "outputs": [
        {
          "output_type": "stream",
          "name": "stderr",
          "text": [
            "epoch: 1. : 100%|██████████| 938/938 [00:24<00:00, 37.89it/s]\n"
          ]
        },
        {
          "output_type": "stream",
          "name": "stdout",
          "text": [
            "Fine-tuning Epoch 1, Loss: 364.2573686852765\n"
          ]
        },
        {
          "output_type": "stream",
          "name": "stderr",
          "text": [
            "epoch: 2. : 100%|██████████| 938/938 [00:24<00:00, 37.87it/s]"
          ]
        },
        {
          "output_type": "stream",
          "name": "stdout",
          "text": [
            "Fine-tuning Epoch 2, Loss: 2.1251558704035625\n"
          ]
        },
        {
          "output_type": "stream",
          "name": "stderr",
          "text": [
            "\n"
          ]
        }
      ]
    },
    {
      "cell_type": "markdown",
      "source": [
        "##### Unlearning Validation"
      ],
      "metadata": {
        "id": "R1PFOuIyA_jT"
      }
    },
    {
      "cell_type": "code",
      "source": [
        "correct = 0\n",
        "total = 0\n",
        "with torch.no_grad():\n",
        "    for images, labels in testloader:\n",
        "        outputs = model2(images)\n",
        "        _, predicted = torch.max(outputs.data, 1)\n",
        "        total += labels.size(0)\n",
        "        correct += (predicted == labels).sum().item()\n",
        "\n",
        "print(f'Accuracy on the test set after fine-tuning: {100 * correct / total}%')\n"
      ],
      "metadata": {
        "outputId": "81ab3094-1676-43e6-cd32-3101d0c4a49f",
        "colab": {
          "base_uri": "https://localhost:8080/"
        },
        "id": "oP72fe8TA_jj"
      },
      "execution_count": 181,
      "outputs": [
        {
          "output_type": "stream",
          "name": "stdout",
          "text": [
            "Accuracy on the test set after fine-tuning: 83.12%\n"
          ]
        }
      ]
    },
    {
      "cell_type": "code",
      "source": [
        "misclassified_images = []\n",
        "misclassified_labels = []\n",
        "true_labels = []\n",
        "\n",
        "with torch.no_grad():\n",
        "    for images, labels in testloader:\n",
        "        outputs = model2(images)\n",
        "        _, predicted = torch.max(outputs.data, 1)\n",
        "        # Trova gli indici degli errori\n",
        "        misclassified_idx = (predicted != labels).nonzero(as_tuple=True)[0]\n",
        "        for idx in misclassified_idx:\n",
        "            misclassified_images.append(images[idx].cpu())\n",
        "            misclassified_labels.append(predicted[idx].cpu())\n",
        "            true_labels.append(labels[idx].cpu())\n",
        "\n",
        "num_samples = min(10, len(misclassified_images))\n",
        "random_indices = np.random.choice(len(misclassified_images), num_samples, replace=False)\n",
        "\n",
        "# Impostare la griglia 5x5\n",
        "fig, axes = plt.subplots(2, 5, figsize=(8, 4))\n",
        "fig.suptitle('Esempi Errati Casuali')\n",
        "\n",
        "# Iterare sugli indici selezionati per visualizzare le immagini\n",
        "for i, idx in enumerate(random_indices):\n",
        "    ax = axes[i // 5, i % 5]\n",
        "    img = misclassified_images[idx]\n",
        "    ax.imshow(img.permute(1, 2, 0))\n",
        "    ax.set_title(f'Pred: {misclassified_labels[idx].item()} - True: {true_labels[idx].item()}')\n",
        "    ax.axis('off')\n",
        "\n",
        "plt.tight_layout()\n",
        "plt.show()"
      ],
      "metadata": {
        "outputId": "3148f950-5b2e-40e9-8af2-a17a4144f030",
        "colab": {
          "base_uri": "https://localhost:8080/",
          "height": 403
        },
        "id": "rTsYQJJ5A_jk"
      },
      "execution_count": 182,
      "outputs": [
        {
          "output_type": "display_data",
          "data": {
            "text/plain": [
              "<Figure size 800x400 with 10 Axes>"
            ],
            "image/png": "[encoded data removed]"
          },
          "metadata": {}
        }
      ]
    },
    {
      "cell_type": "code",
      "source": [
        "correct = 0\n",
        "total = 0\n",
        "\n",
        "with torch.no_grad():\n",
        "    for images, labels in testloader:\n",
        "        mask = labels == 6\n",
        "        if mask.sum() == 0:\n",
        "            continue #if there are no 6, skip this batch\n",
        "\n",
        "        images_6 = images[mask]\n",
        "        labels_6 = labels[mask]\n",
        "        outputs = model2(images_6)\n",
        "        _, predicted = torch.max(outputs.data, 1)\n",
        "        total += labels_6.size(0)\n",
        "        correct += (predicted == labels_6).sum().item()\n",
        "\n",
        "accuracy = 100 * correct / total if total > 0 else 0\n",
        "print(f'Accuracy on immagini with label 6: {accuracy:.2f}%')\n"
      ],
      "metadata": {
        "outputId": "93f7c8ce-6a2a-4d1d-dbb7-f58e1cffc21d",
        "colab": {
          "base_uri": "https://localhost:8080/"
        },
        "id": "6_ZB1EDhA_jk"
      },
      "execution_count": 183,
      "outputs": [
        {
          "output_type": "stream",
          "name": "stdout",
          "text": [
            "Accuracy on immagini with label 6: 0.00%\n"
          ]
        }
      ]
    },
    {
      "cell_type": "code",
      "source": [
        "correct = 0\n",
        "total = 0\n",
        "\n",
        "with torch.no_grad():\n",
        "    for images, labels in testloader:\n",
        "        mask = labels != 6\n",
        "        if mask.sum() == 0:\n",
        "            continue\n",
        "\n",
        "        images_not_6 = images[mask]\n",
        "        labels_not_6 = labels[mask]\n",
        "\n",
        "        outputs = model2(images_not_6)\n",
        "        _, predicted = torch.max(outputs.data, 1)\n",
        "\n",
        "        total += labels_not_6.size(0)\n",
        "        correct += (predicted == labels_not_6).sum().item()\n",
        "\n",
        "accuracy = 100 * correct / total if total > 0 else 0\n",
        "print(f'Accuracy on images with other labels (not 6): {accuracy:.2f}%')\n"
      ],
      "metadata": {
        "outputId": "3afdcc02-ae31-4067-c7ef-92b0df0f4636",
        "colab": {
          "base_uri": "https://localhost:8080/"
        },
        "id": "oFQxoeHnA_jk"
      },
      "execution_count": 184,
      "outputs": [
        {
          "output_type": "stream",
          "name": "stdout",
          "text": [
            "Accuracy on images with other labels (not 6): 91.93%\n"
          ]
        }
      ]
    },
    {
      "cell_type": "code",
      "source": [
        "joblib.dump(model2, \"MNIST_Classifier_unl6_penalty.joblib\")"
      ],
      "metadata": {
        "id": "7eNhMBisbdiR",
        "outputId": "fe19e2e1-daf8-4855-898c-e96d7ca8a9a8",
        "colab": {
          "base_uri": "https://localhost:8080/"
        }
      },
      "execution_count": 189,
      "outputs": [
        {
          "output_type": "execute_result",
          "data": {
            "text/plain": [
              "['MNIST_Classifier_unl6_penalty.joblib']"
            ]
          },
          "metadata": {},
          "execution_count": 189
        }
      ]
    }
  ]
}